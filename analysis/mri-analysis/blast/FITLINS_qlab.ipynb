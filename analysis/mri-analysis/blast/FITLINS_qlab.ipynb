{
 "cells": [
  {
   "cell_type": "markdown",
   "metadata": {},
   "source": [
    "This notebook describes the steps used to setup and use FITLINS. "
   ]
  },
  {
   "cell_type": "markdown",
   "metadata": {},
   "source": [
    "# Installation and Getting Started\n",
    "Setup your docker container to mount all current data for analysis.\n",
    "Additional information can be found here: https://fitlins.readthedocs.io/en/latest/installation.html"
   ]
  },
  {
   "cell_type": "code",
   "execution_count": null,
   "metadata": {},
   "outputs": [],
   "source": [
    "docker pull poldracklab/fitlins:latest"
   ]
  },
  {
   "cell_type": "code",
   "execution_count": 1,
   "metadata": {},
   "outputs": [
    {
     "ename": "SyntaxError",
     "evalue": "invalid syntax (<ipython-input-1-754d78bfed07>, line 1)",
     "output_type": "error",
     "traceback": [
      "\u001b[0;36m  File \u001b[0;32m\"<ipython-input-1-754d78bfed07>\"\u001b[0;36m, line \u001b[0;32m1\u001b[0m\n\u001b[0;31m    docker run --rm -it     -v /data/projects/blast/data/bids:/bids:ro     -v /data/projects/blast/data/derivatives/fmriprep:/prep:ro     -v /data/projects/blast/data/derivatives/fitlins:/out     -v /scratch:/scratch   poldracklab/fitlins:latest     /bids /out dataset -d /prep -w /scratch\u001b[0m\n\u001b[0m             ^\u001b[0m\n\u001b[0;31mSyntaxError\u001b[0m\u001b[0;31m:\u001b[0m invalid syntax\n"
     ]
    }
   ],
   "source": [
    "docker run --rm -it \\\n",
    "    -v /data/projects/blast/data/bids:/bids:ro \\\n",
    "    -v /data/projects/blast/data/derivatives/fmriprep:/prep:ro \\\n",
    "    -v /data/projects/blast/data/derivatives/fitlins:/fitlins \\\n",
    "    -v /scratch:/scratch \\\n",
    "  poldracklab/fitlins:latest \\\n",
    "    /bids /fitlins participant -d /prep -w /scratch"
   ]
  },
  {
   "cell_type": "markdown",
   "metadata": {},
   "source": [
    "# Usage\n",
    "fitlins /data/projects/blast/data/bids/ /data/projects/blast/data/derivatives/fitlins/ participant -d /data/projects/blast/data/derivatives/fmriprep/ -w /data/projects/blast/data/derivatives/fitlins/workdir/"
   ]
  }
 ],
 "metadata": {
  "kernelspec": {
   "display_name": "Python 3",
   "language": "python",
   "name": "python3"
  },
  "language_info": {
   "codemirror_mode": {
    "name": "ipython",
    "version": 3
   },
   "file_extension": ".py",
   "mimetype": "text/x-python",
   "name": "python",
   "nbconvert_exporter": "python",
   "pygments_lexer": "ipython3",
   "version": "3.7.0"
  }
 },
 "nbformat": 4,
 "nbformat_minor": 2
}
